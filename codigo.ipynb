{
 "cells": [
  {
   "cell_type": "code",
   "execution_count": null,
   "metadata": {},
   "outputs": [
    {
     "ename": "",
     "evalue": "",
     "output_type": "error",
     "traceback": [
      "\u001b[1;31mRunning cells with 'usr (Python 3.10.12)' requires the ipykernel package.\n",
      "\u001b[1;31mRun the following command to install 'ipykernel' into the Python environment. \n",
      "\u001b[1;31mCommand: '/usr/bin/python3 -m pip install ipykernel -U --force-reinstall'"
     ]
    }
   ],
   "source": [
    "#importando biblitecas nescessarias\n",
    "import matplotlib as plt\n",
    "from matplotlib.animation import FuncAnimation\n",
    "import numpy as np"
   ]
  },
  {
   "cell_type": "markdown",
   "metadata": {},
   "source": [
    "## Convolução de Dois Sinais\n",
    "\n",
    "A convolução entre dois sinais $x_1(t)$ e $x_2(t)$ é definida como:\n",
    "\n",
    "$\\displaystyle y(t) = \\int_{-\\infty}^{\\infty}{x_1(\\tau)x_2(t - \\tau) \\, d(\\tau)}$\n",
    "\n",
    "\n",
    "\n",
    "### Passos para o Cálculo:\n",
    "1. **Inverter** o sinal $x_2(\\tau)$ para obter $x_2(-\\tau)$;\n",
    "2. **Deslocar** $x_2(-\\tau)$ por $t$, resultando em $x_2(t-\\tau)$;\n",
    "3. **Multiplicar** os dois sinais $x_1(\\tau)$ e $x_2(t-\\tau)$ em cada ponto $t$ confrome o resultado $y(t)$;\n",
    "4. **Integrar** o produto ao longo de todo o domínio $(-\\infty,\\infty)$ para obter um contínuo de t, o sinal de sáida em função de t.\n",
    "\n",
    "\n",
    "#### Observação: \n",
    " Não conseguimos integrar de $(-\\infty,\\infty)$, então por efeito de simplicidade colocaos $(-10,10)$, mas isso pode ser alterado na função"
   ]
  },
  {
   "cell_type": "code",
   "execution_count": null,
   "metadata": {},
   "outputs": [],
   "source": [
    "#y(t) = x1(t)*x2(t), a <= t <= b\n",
    "def convolucao (x1, x2, a, b, limite_integral):\n",
    "\n",
    "\n",
    "    dt = 0.01 # resolucao do gráfico\n",
    "    t = np.linspace(a, b, dt) \n",
    "    \n",
    "    f = []\n",
    "    for t_valor in t:\n",
    "        multiplicacao = x1(np.arange(-limite_integral, limite_integral, dt)) * x2(t_valor - np.arange(-limite_integral, limite_integral, dt))\n",
    "        integral = np.sum(multiplicacao * dt)\n",
    "        f.append(integral)\n",
    "\n",
    "    return f\n"
   ]
  },
  {
   "cell_type": "code",
   "execution_count": null,
   "metadata": {},
   "outputs": [],
   "source": [
    "# Função para criar a animação\n",
    "def plotar_graficos(x1, x2, t, f, limite_integral):\n",
    "    dt = 0.01\n",
    "    tau = np.arange(-limite_integral, limite_integral, dt)\n",
    "\n",
    "    fig, ax = plt.subplots(3, 1, figsize=(8, 8))\n",
    "    \n",
    "    # Gráficos iniciais\n",
    "    linha_x1, = ax[0].plot(tau, x1(tau), label=\"x1(τ)\", color=\"blue\")\n",
    "    ax[0].set_title(\"x1(τ)\")\n",
    "    ax[0].legend()\n",
    "    \n",
    "    linha_x2, = ax[1].plot(tau, x2(-tau), label=\"x2(t-τ)\", color=\"green\")\n",
    "    ax[1].set_title(\"x2(t-τ)\")\n",
    "    ax[1].legend()\n",
    "    \n",
    "    linha_resultado, = ax[2].plot(t[:1], f[:1], label=\"Convolução\", color=\"red\")\n",
    "    ax[2].set_title(\"Resultado da Convolução\")\n",
    "    ax[2].legend()\n",
    "    ax[2].set_xlim(t[0], t[-1])\n",
    "    ax[2].set_ylim(min(f) - 1, max(f) + 1)\n",
    "    \n",
    "    # Função de atualização para animação\n",
    "    def atualizar(frame):\n",
    "        t_valor = t[frame]\n",
    "        x2_atualizado = x2(t_valor - tau)\n",
    "        multiplicacao = x1(tau) * x2_atualizado\n",
    "        \n",
    "        linha_x2.set_ydata(x2_atualizado)\n",
    "        linha_resultado.set_data(t[:frame + 1], f[:frame + 1])\n",
    "        \n",
    "        return linha_x2, linha_resultado\n",
    "\n",
    "    # Criação da animação\n",
    "    anim = FuncAnimation(fig, atualizar, frames=len(t), interval=50, blit=True)\n",
    "\n",
    "    plt.tight_layout()\n",
    "    plt.show()\n",
    "\n",
    "# Funções de exemplo\n",
    "def x1(t):\n",
    "    return np.where((t >= 0), 1, 0)  # Retângulo de altura 1 entre 0 e 1\n",
    "\n",
    "def x2(t):\n",
    "    return np.where(t <=0, np.exp(t), 0)  # Retângulo de altura 1 entre -1 e 1\n",
    "\n",
    "# Parâmetros\n",
    "a, b = -5, 5\n",
    "limite_integral = 5\n",
    "\n",
    "# Calcular convolução\n",
    "t, f = convolucao(x1, x2, a, b, limite_integral)\n",
    "\n",
    "# Plotar os gráficos com animação\n",
    "plotar_graficos(x1, x2, t, f, limite_integral)"
   ]
  },
  {
   "cell_type": "code",
   "execution_count": null,
   "metadata": {},
   "outputs": [],
   "source": []
  }
 ],
 "metadata": {
  "kernelspec": {
   "display_name": "usr",
   "language": "python",
   "name": "python3"
  },
  "language_info": {
   "name": "python",
   "version": "3.10.12"
  }
 },
 "nbformat": 4,
 "nbformat_minor": 2
}
